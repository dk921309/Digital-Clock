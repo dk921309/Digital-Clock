{
 "cells": [
  {
   "cell_type": "code",
   "execution_count": 1,
   "metadata": {},
   "outputs": [],
   "source": [
    "import sys\n",
    "from tkinter import *\n",
    "import time"
   ]
  },
  {
   "cell_type": "code",
   "execution_count": null,
   "metadata": {},
   "outputs": [],
   "source": [
    "def times():\n",
    "    c_t=time.strftime(\"%H:%M:%S\")\n",
    "    clock.config(text=c_t)\n",
    "    clock.after(100,times)\n",
    "\n",
    "root=Tk()    \n",
    "root.geometry(\"400x220\")\n",
    "clock=Label(root,font=(\"times\",50,\"bold\"),bg=\"Pink\")\n",
    "clock.grid(row=1,column=2,pady=20,padx=70) \n",
    "times()\n",
    "\n",
    "clk_name=Label(root,text=\"Digital clock\",font=\"times 30 bold\")\n",
    "clk_name.grid(row=0,column=2)\n",
    "\n",
    "denotion=Label(root,text=\"Hours      Minutes      Seconds  \",font=\"times 15 bold\")\n",
    "denotion.grid(row=2,column=2)\n",
    "\n",
    "root.mainloop()"
   ]
  }
 ],
 "metadata": {
  "kernelspec": {
   "display_name": "Python 3",
   "language": "python",
   "name": "python3"
  },
  "language_info": {
   "codemirror_mode": {
    "name": "ipython",
    "version": 3
   },
   "file_extension": ".py",
   "mimetype": "text/x-python",
   "name": "python",
   "nbconvert_exporter": "python",
   "pygments_lexer": "ipython3",
   "version": "3.7.1"
  }
 },
 "nbformat": 4,
 "nbformat_minor": 2
}
